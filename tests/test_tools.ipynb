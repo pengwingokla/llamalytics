{
 "cells": [
  {
   "cell_type": "code",
   "execution_count": 11,
   "id": "7dac4c5e",
   "metadata": {},
   "outputs": [
    {
     "name": "stdout",
     "output_type": "stream",
     "text": [
      "/Users/uyennguyen/Projects/mcp-demo/tests\n"
     ]
    }
   ],
   "source": [
    "import os\n",
    "import sys\n",
    "print(os.getcwd())\n",
    "sys.path.append('/Users/uyennguyen/Projects/mcp-demo')\n",
    "from tools.csv_tools import CSVAnalyzer"
   ]
  },
  {
   "cell_type": "code",
   "execution_count": 9,
   "id": "77eb5a2d",
   "metadata": {},
   "outputs": [
    {
     "name": "stdout",
     "output_type": "stream",
     "text": [
      "Loaded CSV with 100 rows and 7 columns\n",
      "{'search_term': 'Chicago', 'column': 'city', 'matches': 18, 'data': [{'id': 3, 'name': 'Person_3', 'age': 68, 'city': 'Chicago', 'salary': 80386, 'department': 'Marketing', 'years_experience': 14}, {'id': 7, 'name': 'Person_7', 'age': 28, 'city': 'Chicago', 'salary': 98654, 'department': 'Engineering', 'years_experience': 24}, {'id': 9, 'name': 'Person_9', 'age': 38, 'city': 'Chicago', 'salary': 30372, 'department': 'Finance', 'years_experience': 21}, {'id': 12, 'name': 'Person_12', 'age': 35, 'city': 'Chicago', 'salary': 66733, 'department': 'Marketing', 'years_experience': 8}, {'id': 22, 'name': 'Person_22', 'age': 54, 'city': 'Chicago', 'salary': 34418, 'department': 'Marketing', 'years_experience': 2}, {'id': 34, 'name': 'Person_34', 'age': 36, 'city': 'Chicago', 'salary': 123155, 'department': 'Engineering', 'years_experience': 16}, {'id': 35, 'name': 'Person_35', 'age': 73, 'city': 'Chicago', 'salary': 142203, 'department': 'Marketing', 'years_experience': 21}, {'id': 41, 'name': 'Person_41', 'age': 28, 'city': 'Chicago', 'salary': 38538, 'department': 'Engineering', 'years_experience': 2}, {'id': 49, 'name': 'Person_49', 'age': 30, 'city': 'Chicago', 'salary': 111515, 'department': 'Sales', 'years_experience': 2}, {'id': 52, 'name': 'Person_52', 'age': 28, 'city': 'Chicago', 'salary': 90961, 'department': 'Sales', 'years_experience': 17}]}\n"
     ]
    }
   ],
   "source": [
    "a = CSVAnalyzer('../sample_data.csv')\n",
    "print(a.search_text('city','Chicago'))\n"
   ]
  },
  {
   "cell_type": "code",
   "execution_count": 11,
   "id": "22peedowj1n",
   "metadata": {},
   "outputs": [
    {
     "name": "stdout",
     "output_type": "stream",
     "text": [
      "Loaded CSV with 6370 rows and 35 columns\n",
      "{'shape': (6370, 35), 'columns': ['unitid', 'university_name', 'year', 'Cohort_type', 'Graduation_rate_status_in_cohort', 'Cohort', 'Total', 'Total_men', 'Total_women', 'American_Indian_total', 'American_Indian_men', 'American_Indian_women', 'Asian_total', 'Asian_men', 'Asian_women', 'Black_total', 'Black_men', 'Black_women', 'Hispanic_total', 'Hispanic_men', 'Hispanic_women', 'Native_Hawaiian_total', 'Native_Hawaiian_men', 'Native_Hawaiian_women', 'White_total', 'White_men', 'White_women', 'Two_or_more_races_total', 'Two_or_more_races_men', 'Two_or_more_races_women', 'Race_unknown_total', 'Race_unknown_men', 'Race_unknown_women', 'Nonresident_alien_total', 'Nonresident_alien_men'], 'dtypes': {'unitid': dtype('int64'), 'university_name': dtype('O'), 'year': dtype('int64'), 'Cohort_type': dtype('int64'), 'Graduation_rate_status_in_cohort': dtype('int64'), 'Cohort': dtype('int64'), 'Total': dtype('int64'), 'Total_men': dtype('float64'), 'Total_women': dtype('float64'), 'American_Indian_total': dtype('float64'), 'American_Indian_men': dtype('float64'), 'American_Indian_women': dtype('float64'), 'Asian_total': dtype('float64'), 'Asian_men': dtype('float64'), 'Asian_women': dtype('float64'), 'Black_total': dtype('float64'), 'Black_men': dtype('float64'), 'Black_women': dtype('float64'), 'Hispanic_total': dtype('float64'), 'Hispanic_men': dtype('float64'), 'Hispanic_women': dtype('float64'), 'Native_Hawaiian_total': dtype('float64'), 'Native_Hawaiian_men': dtype('float64'), 'Native_Hawaiian_women': dtype('float64'), 'White_total': dtype('float64'), 'White_men': dtype('float64'), 'White_women': dtype('float64'), 'Two_or_more_races_total': dtype('float64'), 'Two_or_more_races_men': dtype('float64'), 'Two_or_more_races_women': dtype('float64'), 'Race_unknown_total': dtype('float64'), 'Race_unknown_men': dtype('float64'), 'Race_unknown_women': dtype('float64'), 'Nonresident_alien_total': dtype('float64'), 'Nonresident_alien_men': dtype('float64')}, 'null_counts': {'unitid': 0, 'university_name': 0, 'year': 0, 'Cohort_type': 0, 'Graduation_rate_status_in_cohort': 0, 'Cohort': 0, 'Total': 0, 'Total_men': 539, 'Total_women': 539, 'American_Indian_total': 539, 'American_Indian_men': 539, 'American_Indian_women': 539, 'Asian_total': 539, 'Asian_men': 539, 'Asian_women': 539, 'Black_total': 539, 'Black_men': 539, 'Black_women': 539, 'Hispanic_total': 539, 'Hispanic_men': 539, 'Hispanic_women': 539, 'Native_Hawaiian_total': 539, 'Native_Hawaiian_men': 539, 'Native_Hawaiian_women': 539, 'White_total': 539, 'White_men': 539, 'White_women': 539, 'Two_or_more_races_total': 539, 'Two_or_more_races_men': 539, 'Two_or_more_races_women': 539, 'Race_unknown_total': 539, 'Race_unknown_men': 539, 'Race_unknown_women': 539, 'Nonresident_alien_total': 539, 'Nonresident_alien_men': 539}, 'sample_data': [{'unitid': 183488, 'university_name': 'Eastwick College-Hackensack', 'year': 2019, 'Cohort_type': 27, 'Graduation_rate_status_in_cohort': 10, 'Cohort': 4, 'Total': 45, 'Total_men': 3.0, 'Total_women': 42.0, 'American_Indian_total': 1.0, 'American_Indian_men': 0.0, 'American_Indian_women': 1.0, 'Asian_total': 0.0, 'Asian_men': 0.0, 'Asian_women': 0.0, 'Black_total': 9.0, 'Black_men': 1.0, 'Black_women': 8.0, 'Hispanic_total': 24.0, 'Hispanic_men': 1.0, 'Hispanic_women': 23.0, 'Native_Hawaiian_total': 0.0, 'Native_Hawaiian_men': 0.0, 'Native_Hawaiian_women': 0.0, 'White_total': 9.0, 'White_men': 1.0, 'White_women': 8.0, 'Two_or_more_races_total': 0.0, 'Two_or_more_races_men': 0.0, 'Two_or_more_races_women': 0.0, 'Race_unknown_total': 2.0, 'Race_unknown_men': 0.0, 'Race_unknown_women': 2.0, 'Nonresident_alien_total': 0.0, 'Nonresident_alien_men': 0.0}, {'unitid': 183488, 'university_name': 'Eastwick College-Hackensack', 'year': 2019, 'Cohort_type': 29, 'Graduation_rate_status_in_cohort': 12, 'Cohort': 4, 'Total': 45, 'Total_men': 3.0, 'Total_women': 42.0, 'American_Indian_total': 1.0, 'American_Indian_men': 0.0, 'American_Indian_women': 1.0, 'Asian_total': 0.0, 'Asian_men': 0.0, 'Asian_women': 0.0, 'Black_total': 9.0, 'Black_men': 1.0, 'Black_women': 8.0, 'Hispanic_total': 24.0, 'Hispanic_men': 1.0, 'Hispanic_women': 23.0, 'Native_Hawaiian_total': 0.0, 'Native_Hawaiian_men': 0.0, 'Native_Hawaiian_women': 0.0, 'White_total': 9.0, 'White_men': 1.0, 'White_women': 8.0, 'Two_or_more_races_total': 0.0, 'Two_or_more_races_men': 0.0, 'Two_or_more_races_women': 0.0, 'Race_unknown_total': 2.0, 'Race_unknown_men': 0.0, 'Race_unknown_women': 2.0, 'Nonresident_alien_total': 0.0, 'Nonresident_alien_men': 0.0}, {'unitid': 183488, 'university_name': 'Eastwick College-Hackensack', 'year': 2019, 'Cohort_type': 30, 'Graduation_rate_status_in_cohort': 13, 'Cohort': 4, 'Total': 27, 'Total_men': 2.0, 'Total_women': 25.0, 'American_Indian_total': 1.0, 'American_Indian_men': 0.0, 'American_Indian_women': 1.0, 'Asian_total': 0.0, 'Asian_men': 0.0, 'Asian_women': 0.0, 'Black_total': 2.0, 'Black_men': 0.0, 'Black_women': 2.0, 'Hispanic_total': 14.0, 'Hispanic_men': 1.0, 'Hispanic_women': 13.0, 'Native_Hawaiian_total': 0.0, 'Native_Hawaiian_men': 0.0, 'Native_Hawaiian_women': 0.0, 'White_total': 8.0, 'White_men': 1.0, 'White_women': 7.0, 'Two_or_more_races_total': 0.0, 'Two_or_more_races_men': 0.0, 'Two_or_more_races_women': 0.0, 'Race_unknown_total': 2.0, 'Race_unknown_men': 0.0, 'Race_unknown_women': 2.0, 'Nonresident_alien_total': 0.0, 'Nonresident_alien_men': 0.0}]}\n"
     ]
    }
   ],
   "source": [
    "b = CSVAnalyzer('../data/NJ_graduation_data.csv')\n",
    "print(b.get_info())"
   ]
  },
  {
   "cell_type": "code",
   "execution_count": 12,
   "id": "e8npbemyma",
   "metadata": {},
   "outputs": [
    {
     "name": "stdout",
     "output_type": "stream",
     "text": [
      "{'search_term': 'Princeton', 'column': 'university_name', 'matches': 89, 'data': [{'unitid': 186131, 'university_name': 'Princeton University', 'year': 2019, 'Cohort_type': 2, 'Graduation_rate_status_in_cohort': 12, 'Cohort': 1, 'Total': 1284, 'Total_men': 656.0, 'Total_women': 628.0, 'American_Indian_total': 1.0, 'American_Indian_men': 1.0, 'American_Indian_women': 0.0, 'Asian_total': 271.0, 'Asian_men': 127.0, 'Asian_women': 144.0, 'Black_total': 103.0, 'Black_men': 48.0, 'Black_women': 55.0, 'Hispanic_total': 122.0, 'Hispanic_men': 65.0, 'Hispanic_women': 57.0, 'Native_Hawaiian_total': 1.0, 'Native_Hawaiian_men': 0.0, 'Native_Hawaiian_women': 1.0, 'White_total': 564.0, 'White_men': 307.0, 'White_women': 257.0, 'Two_or_more_races_total': 51.0, 'Two_or_more_races_men': 25.0, 'Two_or_more_races_women': 26.0, 'Race_unknown_total': 24.0, 'Race_unknown_men': 10.0, 'Race_unknown_women': 14.0, 'Nonresident_alien_total': 147.0, 'Nonresident_alien_men': 73.0}, {'unitid': 186131, 'university_name': 'Princeton University', 'year': 2019, 'Cohort_type': 3, 'Graduation_rate_status_in_cohort': 13, 'Cohort': 1, 'Total': 1257, 'Total_men': 635.0, 'Total_women': 622.0, 'American_Indian_total': 1.0, 'American_Indian_men': 1.0, 'American_Indian_women': 0.0, 'Asian_total': 268.0, 'Asian_men': 124.0, 'Asian_women': 144.0, 'Black_total': 100.0, 'Black_men': 46.0, 'Black_women': 54.0, 'Hispanic_total': 118.0, 'Hispanic_men': 62.0, 'Hispanic_women': 56.0, 'Native_Hawaiian_total': 1.0, 'Native_Hawaiian_men': 0.0, 'Native_Hawaiian_women': 1.0, 'White_total': 555.0, 'White_men': 301.0, 'White_women': 254.0, 'Two_or_more_races_total': 47.0, 'Two_or_more_races_men': 22.0, 'Two_or_more_races_women': 25.0, 'Race_unknown_total': 23.0, 'Race_unknown_men': 9.0, 'Race_unknown_women': 14.0, 'Nonresident_alien_total': 144.0, 'Nonresident_alien_men': 70.0}, {'unitid': 186131, 'university_name': 'Princeton University', 'year': 2019, 'Cohort_type': 6, 'Graduation_rate_status_in_cohort': 10, 'Cohort': 2, 'Total': 1285, 'Total_men': 657.0, 'Total_women': 628.0, 'American_Indian_total': 1.0, 'American_Indian_men': 1.0, 'American_Indian_women': 0.0, 'Asian_total': 272.0, 'Asian_men': 128.0, 'Asian_women': 144.0, 'Black_total': 103.0, 'Black_men': 48.0, 'Black_women': 55.0, 'Hispanic_total': 122.0, 'Hispanic_men': 65.0, 'Hispanic_women': 57.0, 'Native_Hawaiian_total': 1.0, 'Native_Hawaiian_men': 0.0, 'Native_Hawaiian_women': 1.0, 'White_total': 564.0, 'White_men': 307.0, 'White_women': 257.0, 'Two_or_more_races_total': 51.0, 'Two_or_more_races_men': 25.0, 'Two_or_more_races_women': 26.0, 'Race_unknown_total': 24.0, 'Race_unknown_men': 10.0, 'Race_unknown_women': 14.0, 'Nonresident_alien_total': 147.0, 'Nonresident_alien_men': 73.0}, {'unitid': 186131, 'university_name': 'Princeton University', 'year': 2019, 'Cohort_type': 7, 'Graduation_rate_status_in_cohort': 11, 'Cohort': 2, 'Total': 1, 'Total_men': 1.0, 'Total_women': 0.0, 'American_Indian_total': 0.0, 'American_Indian_men': 0.0, 'American_Indian_women': 0.0, 'Asian_total': 1.0, 'Asian_men': 1.0, 'Asian_women': 0.0, 'Black_total': 0.0, 'Black_men': 0.0, 'Black_women': 0.0, 'Hispanic_total': 0.0, 'Hispanic_men': 0.0, 'Hispanic_women': 0.0, 'Native_Hawaiian_total': 0.0, 'Native_Hawaiian_men': 0.0, 'Native_Hawaiian_women': 0.0, 'White_total': 0.0, 'White_men': 0.0, 'White_women': 0.0, 'Two_or_more_races_total': 0.0, 'Two_or_more_races_men': 0.0, 'Two_or_more_races_women': 0.0, 'Race_unknown_total': 0.0, 'Race_unknown_men': 0.0, 'Race_unknown_women': 0.0, 'Nonresident_alien_total': 0.0, 'Nonresident_alien_men': 0.0}, {'unitid': 186131, 'university_name': 'Princeton University', 'year': 2019, 'Cohort_type': 8, 'Graduation_rate_status_in_cohort': 12, 'Cohort': 2, 'Total': 1284, 'Total_men': 656.0, 'Total_women': 628.0, 'American_Indian_total': 1.0, 'American_Indian_men': 1.0, 'American_Indian_women': 0.0, 'Asian_total': 271.0, 'Asian_men': 127.0, 'Asian_women': 144.0, 'Black_total': 103.0, 'Black_men': 48.0, 'Black_women': 55.0, 'Hispanic_total': 122.0, 'Hispanic_men': 65.0, 'Hispanic_women': 57.0, 'Native_Hawaiian_total': 1.0, 'Native_Hawaiian_men': 0.0, 'Native_Hawaiian_women': 1.0, 'White_total': 564.0, 'White_men': 307.0, 'White_women': 257.0, 'Two_or_more_races_total': 51.0, 'Two_or_more_races_men': 25.0, 'Two_or_more_races_women': 26.0, 'Race_unknown_total': 24.0, 'Race_unknown_men': 10.0, 'Race_unknown_women': 14.0, 'Nonresident_alien_total': 147.0, 'Nonresident_alien_men': 73.0}, {'unitid': 186131, 'university_name': 'Princeton University', 'year': 2019, 'Cohort_type': 9, 'Graduation_rate_status_in_cohort': 13, 'Cohort': 2, 'Total': 1257, 'Total_men': 635.0, 'Total_women': 622.0, 'American_Indian_total': 1.0, 'American_Indian_men': 1.0, 'American_Indian_women': 0.0, 'Asian_total': 268.0, 'Asian_men': 124.0, 'Asian_women': 144.0, 'Black_total': 100.0, 'Black_men': 46.0, 'Black_women': 54.0, 'Hispanic_total': 118.0, 'Hispanic_men': 62.0, 'Hispanic_women': 56.0, 'Native_Hawaiian_total': 1.0, 'Native_Hawaiian_men': 0.0, 'Native_Hawaiian_women': 1.0, 'White_total': 555.0, 'White_men': 301.0, 'White_women': 254.0, 'Two_or_more_races_total': 47.0, 'Two_or_more_races_men': 22.0, 'Two_or_more_races_women': 25.0, 'Race_unknown_total': 23.0, 'Race_unknown_men': 9.0, 'Race_unknown_women': 14.0, 'Nonresident_alien_total': 144.0, 'Nonresident_alien_men': 70.0}, {'unitid': 186131, 'university_name': 'Princeton University', 'year': 2019, 'Cohort_type': 12, 'Graduation_rate_status_in_cohort': 16, 'Cohort': 2, 'Total': 1257, 'Total_men': 635.0, 'Total_women': 622.0, 'American_Indian_total': 1.0, 'American_Indian_men': 1.0, 'American_Indian_women': 0.0, 'Asian_total': 268.0, 'Asian_men': 124.0, 'Asian_women': 144.0, 'Black_total': 100.0, 'Black_men': 46.0, 'Black_women': 54.0, 'Hispanic_total': 118.0, 'Hispanic_men': 62.0, 'Hispanic_women': 56.0, 'Native_Hawaiian_total': 1.0, 'Native_Hawaiian_men': 0.0, 'Native_Hawaiian_women': 1.0, 'White_total': 555.0, 'White_men': 301.0, 'White_women': 254.0, 'Two_or_more_races_total': 47.0, 'Two_or_more_races_men': 22.0, 'Two_or_more_races_women': 25.0, 'Race_unknown_total': 23.0, 'Race_unknown_men': 9.0, 'Race_unknown_women': 14.0, 'Nonresident_alien_total': 144.0, 'Nonresident_alien_men': 70.0}, {'unitid': 186131, 'university_name': 'Princeton University', 'year': 2019, 'Cohort_type': 13, 'Graduation_rate_status_in_cohort': 17, 'Cohort': 2, 'Total': 1153, 'Total_men': 572.0, 'Total_women': 581.0, 'American_Indian_total': 1.0, 'American_Indian_men': 1.0, 'American_Indian_women': 0.0, 'Asian_total': 252.0, 'Asian_men': 115.0, 'Asian_women': 137.0, 'Black_total': 92.0, 'Black_men': 42.0, 'Black_women': 50.0, 'Hispanic_total': 103.0, 'Hispanic_men': 55.0, 'Hispanic_women': 48.0, 'Native_Hawaiian_total': 1.0, 'Native_Hawaiian_men': 0.0, 'Native_Hawaiian_women': 1.0, 'White_total': 518.0, 'White_men': 276.0, 'White_women': 242.0, 'Two_or_more_races_total': 42.0, 'Two_or_more_races_men': 18.0, 'Two_or_more_races_women': 24.0, 'Race_unknown_total': 19.0, 'Race_unknown_men': 8.0, 'Race_unknown_women': 11.0, 'Nonresident_alien_total': 125.0, 'Nonresident_alien_men': 57.0}, {'unitid': 186131, 'university_name': 'Princeton University', 'year': 2019, 'Cohort_type': 14, 'Graduation_rate_status_in_cohort': 18, 'Cohort': 2, 'Total': 87, 'Total_men': 51.0, 'Total_women': 36.0, 'American_Indian_total': 0.0, 'American_Indian_men': 0.0, 'American_Indian_women': 0.0, 'Asian_total': 14.0, 'Asian_men': 8.0, 'Asian_women': 6.0, 'Black_total': 7.0, 'Black_men': 4.0, 'Black_women': 3.0, 'Hispanic_total': 11.0, 'Hispanic_men': 4.0, 'Hispanic_women': 7.0, 'Native_Hawaiian_total': 0.0, 'Native_Hawaiian_men': 0.0, 'Native_Hawaiian_women': 0.0, 'White_total': 30.0, 'White_men': 20.0, 'White_women': 10.0, 'Two_or_more_races_total': 5.0, 'Two_or_more_races_men': 4.0, 'Two_or_more_races_women': 1.0, 'Race_unknown_total': 4.0, 'Race_unknown_men': 1.0, 'Race_unknown_women': 3.0, 'Nonresident_alien_total': 16.0, 'Nonresident_alien_men': 10.0}, {'unitid': 186131, 'university_name': 'Princeton University', 'year': 2019, 'Cohort_type': 15, 'Graduation_rate_status_in_cohort': 19, 'Cohort': 2, 'Total': 17, 'Total_men': 12.0, 'Total_women': 5.0, 'American_Indian_total': 0.0, 'American_Indian_men': 0.0, 'American_Indian_women': 0.0, 'Asian_total': 2.0, 'Asian_men': 1.0, 'Asian_women': 1.0, 'Black_total': 1.0, 'Black_men': 0.0, 'Black_women': 1.0, 'Hispanic_total': 4.0, 'Hispanic_men': 3.0, 'Hispanic_women': 1.0, 'Native_Hawaiian_total': 0.0, 'Native_Hawaiian_men': 0.0, 'Native_Hawaiian_women': 0.0, 'White_total': 7.0, 'White_men': 5.0, 'White_women': 2.0, 'Two_or_more_races_total': 0.0, 'Two_or_more_races_men': 0.0, 'Two_or_more_races_women': 0.0, 'Race_unknown_total': 0.0, 'Race_unknown_men': 0.0, 'Race_unknown_women': 0.0, 'Nonresident_alien_total': 3.0, 'Nonresident_alien_men': 3.0}]}\n"
     ]
    }
   ],
   "source": [
    "print(b.search_text('university_name', 'Princeton'))"
   ]
  },
  {
   "cell_type": "code",
   "execution_count": null,
   "id": "ddf29e3a",
   "metadata": {},
   "outputs": [],
   "source": []
  },
  {
   "cell_type": "code",
   "execution_count": 13,
   "id": "nblg0smo92",
   "metadata": {},
   "outputs": [
    {
     "name": "stdout",
     "output_type": "stream",
     "text": [
      "=== Search for Princeton ===\n",
      "{'search_term': 'Princeton', 'column': 'university_name', 'matches': 89, 'data': [{'unitid': 186131, 'university_name': 'Princeton University', 'year': 2019, 'Cohort_type': 2, 'Graduation_rate_status_in_cohort': 12, 'Cohort': 1, 'Total': 1284, 'Total_men': 656.0, 'Total_women': 628.0, 'American_Indian_total': 1.0, 'American_Indian_men': 1.0, 'American_Indian_women': 0.0, 'Asian_total': 271.0, 'Asian_men': 127.0, 'Asian_women': 144.0, 'Black_total': 103.0, 'Black_men': 48.0, 'Black_women': 55.0, 'Hispanic_total': 122.0, 'Hispanic_men': 65.0, 'Hispanic_women': 57.0, 'Native_Hawaiian_total': 1.0, 'Native_Hawaiian_men': 0.0, 'Native_Hawaiian_women': 1.0, 'White_total': 564.0, 'White_men': 307.0, 'White_women': 257.0, 'Two_or_more_races_total': 51.0, 'Two_or_more_races_men': 25.0, 'Two_or_more_races_women': 26.0, 'Race_unknown_total': 24.0, 'Race_unknown_men': 10.0, 'Race_unknown_women': 14.0, 'Nonresident_alien_total': 147.0, 'Nonresident_alien_men': 73.0}, {'unitid': 186131, 'university_name': 'Princeton University', 'year': 2019, 'Cohort_type': 3, 'Graduation_rate_status_in_cohort': 13, 'Cohort': 1, 'Total': 1257, 'Total_men': 635.0, 'Total_women': 622.0, 'American_Indian_total': 1.0, 'American_Indian_men': 1.0, 'American_Indian_women': 0.0, 'Asian_total': 268.0, 'Asian_men': 124.0, 'Asian_women': 144.0, 'Black_total': 100.0, 'Black_men': 46.0, 'Black_women': 54.0, 'Hispanic_total': 118.0, 'Hispanic_men': 62.0, 'Hispanic_women': 56.0, 'Native_Hawaiian_total': 1.0, 'Native_Hawaiian_men': 0.0, 'Native_Hawaiian_women': 1.0, 'White_total': 555.0, 'White_men': 301.0, 'White_women': 254.0, 'Two_or_more_races_total': 47.0, 'Two_or_more_races_men': 22.0, 'Two_or_more_races_women': 25.0, 'Race_unknown_total': 23.0, 'Race_unknown_men': 9.0, 'Race_unknown_women': 14.0, 'Nonresident_alien_total': 144.0, 'Nonresident_alien_men': 70.0}, {'unitid': 186131, 'university_name': 'Princeton University', 'year': 2019, 'Cohort_type': 6, 'Graduation_rate_status_in_cohort': 10, 'Cohort': 2, 'Total': 1285, 'Total_men': 657.0, 'Total_women': 628.0, 'American_Indian_total': 1.0, 'American_Indian_men': 1.0, 'American_Indian_women': 0.0, 'Asian_total': 272.0, 'Asian_men': 128.0, 'Asian_women': 144.0, 'Black_total': 103.0, 'Black_men': 48.0, 'Black_women': 55.0, 'Hispanic_total': 122.0, 'Hispanic_men': 65.0, 'Hispanic_women': 57.0, 'Native_Hawaiian_total': 1.0, 'Native_Hawaiian_men': 0.0, 'Native_Hawaiian_women': 1.0, 'White_total': 564.0, 'White_men': 307.0, 'White_women': 257.0, 'Two_or_more_races_total': 51.0, 'Two_or_more_races_men': 25.0, 'Two_or_more_races_women': 26.0, 'Race_unknown_total': 24.0, 'Race_unknown_men': 10.0, 'Race_unknown_women': 14.0, 'Nonresident_alien_total': 147.0, 'Nonresident_alien_men': 73.0}, {'unitid': 186131, 'university_name': 'Princeton University', 'year': 2019, 'Cohort_type': 7, 'Graduation_rate_status_in_cohort': 11, 'Cohort': 2, 'Total': 1, 'Total_men': 1.0, 'Total_women': 0.0, 'American_Indian_total': 0.0, 'American_Indian_men': 0.0, 'American_Indian_women': 0.0, 'Asian_total': 1.0, 'Asian_men': 1.0, 'Asian_women': 0.0, 'Black_total': 0.0, 'Black_men': 0.0, 'Black_women': 0.0, 'Hispanic_total': 0.0, 'Hispanic_men': 0.0, 'Hispanic_women': 0.0, 'Native_Hawaiian_total': 0.0, 'Native_Hawaiian_men': 0.0, 'Native_Hawaiian_women': 0.0, 'White_total': 0.0, 'White_men': 0.0, 'White_women': 0.0, 'Two_or_more_races_total': 0.0, 'Two_or_more_races_men': 0.0, 'Two_or_more_races_women': 0.0, 'Race_unknown_total': 0.0, 'Race_unknown_men': 0.0, 'Race_unknown_women': 0.0, 'Nonresident_alien_total': 0.0, 'Nonresident_alien_men': 0.0}, {'unitid': 186131, 'university_name': 'Princeton University', 'year': 2019, 'Cohort_type': 8, 'Graduation_rate_status_in_cohort': 12, 'Cohort': 2, 'Total': 1284, 'Total_men': 656.0, 'Total_women': 628.0, 'American_Indian_total': 1.0, 'American_Indian_men': 1.0, 'American_Indian_women': 0.0, 'Asian_total': 271.0, 'Asian_men': 127.0, 'Asian_women': 144.0, 'Black_total': 103.0, 'Black_men': 48.0, 'Black_women': 55.0, 'Hispanic_total': 122.0, 'Hispanic_men': 65.0, 'Hispanic_women': 57.0, 'Native_Hawaiian_total': 1.0, 'Native_Hawaiian_men': 0.0, 'Native_Hawaiian_women': 1.0, 'White_total': 564.0, 'White_men': 307.0, 'White_women': 257.0, 'Two_or_more_races_total': 51.0, 'Two_or_more_races_men': 25.0, 'Two_or_more_races_women': 26.0, 'Race_unknown_total': 24.0, 'Race_unknown_men': 10.0, 'Race_unknown_women': 14.0, 'Nonresident_alien_total': 147.0, 'Nonresident_alien_men': 73.0}, {'unitid': 186131, 'university_name': 'Princeton University', 'year': 2019, 'Cohort_type': 9, 'Graduation_rate_status_in_cohort': 13, 'Cohort': 2, 'Total': 1257, 'Total_men': 635.0, 'Total_women': 622.0, 'American_Indian_total': 1.0, 'American_Indian_men': 1.0, 'American_Indian_women': 0.0, 'Asian_total': 268.0, 'Asian_men': 124.0, 'Asian_women': 144.0, 'Black_total': 100.0, 'Black_men': 46.0, 'Black_women': 54.0, 'Hispanic_total': 118.0, 'Hispanic_men': 62.0, 'Hispanic_women': 56.0, 'Native_Hawaiian_total': 1.0, 'Native_Hawaiian_men': 0.0, 'Native_Hawaiian_women': 1.0, 'White_total': 555.0, 'White_men': 301.0, 'White_women': 254.0, 'Two_or_more_races_total': 47.0, 'Two_or_more_races_men': 22.0, 'Two_or_more_races_women': 25.0, 'Race_unknown_total': 23.0, 'Race_unknown_men': 9.0, 'Race_unknown_women': 14.0, 'Nonresident_alien_total': 144.0, 'Nonresident_alien_men': 70.0}, {'unitid': 186131, 'university_name': 'Princeton University', 'year': 2019, 'Cohort_type': 12, 'Graduation_rate_status_in_cohort': 16, 'Cohort': 2, 'Total': 1257, 'Total_men': 635.0, 'Total_women': 622.0, 'American_Indian_total': 1.0, 'American_Indian_men': 1.0, 'American_Indian_women': 0.0, 'Asian_total': 268.0, 'Asian_men': 124.0, 'Asian_women': 144.0, 'Black_total': 100.0, 'Black_men': 46.0, 'Black_women': 54.0, 'Hispanic_total': 118.0, 'Hispanic_men': 62.0, 'Hispanic_women': 56.0, 'Native_Hawaiian_total': 1.0, 'Native_Hawaiian_men': 0.0, 'Native_Hawaiian_women': 1.0, 'White_total': 555.0, 'White_men': 301.0, 'White_women': 254.0, 'Two_or_more_races_total': 47.0, 'Two_or_more_races_men': 22.0, 'Two_or_more_races_women': 25.0, 'Race_unknown_total': 23.0, 'Race_unknown_men': 9.0, 'Race_unknown_women': 14.0, 'Nonresident_alien_total': 144.0, 'Nonresident_alien_men': 70.0}, {'unitid': 186131, 'university_name': 'Princeton University', 'year': 2019, 'Cohort_type': 13, 'Graduation_rate_status_in_cohort': 17, 'Cohort': 2, 'Total': 1153, 'Total_men': 572.0, 'Total_women': 581.0, 'American_Indian_total': 1.0, 'American_Indian_men': 1.0, 'American_Indian_women': 0.0, 'Asian_total': 252.0, 'Asian_men': 115.0, 'Asian_women': 137.0, 'Black_total': 92.0, 'Black_men': 42.0, 'Black_women': 50.0, 'Hispanic_total': 103.0, 'Hispanic_men': 55.0, 'Hispanic_women': 48.0, 'Native_Hawaiian_total': 1.0, 'Native_Hawaiian_men': 0.0, 'Native_Hawaiian_women': 1.0, 'White_total': 518.0, 'White_men': 276.0, 'White_women': 242.0, 'Two_or_more_races_total': 42.0, 'Two_or_more_races_men': 18.0, 'Two_or_more_races_women': 24.0, 'Race_unknown_total': 19.0, 'Race_unknown_men': 8.0, 'Race_unknown_women': 11.0, 'Nonresident_alien_total': 125.0, 'Nonresident_alien_men': 57.0}, {'unitid': 186131, 'university_name': 'Princeton University', 'year': 2019, 'Cohort_type': 14, 'Graduation_rate_status_in_cohort': 18, 'Cohort': 2, 'Total': 87, 'Total_men': 51.0, 'Total_women': 36.0, 'American_Indian_total': 0.0, 'American_Indian_men': 0.0, 'American_Indian_women': 0.0, 'Asian_total': 14.0, 'Asian_men': 8.0, 'Asian_women': 6.0, 'Black_total': 7.0, 'Black_men': 4.0, 'Black_women': 3.0, 'Hispanic_total': 11.0, 'Hispanic_men': 4.0, 'Hispanic_women': 7.0, 'Native_Hawaiian_total': 0.0, 'Native_Hawaiian_men': 0.0, 'Native_Hawaiian_women': 0.0, 'White_total': 30.0, 'White_men': 20.0, 'White_women': 10.0, 'Two_or_more_races_total': 5.0, 'Two_or_more_races_men': 4.0, 'Two_or_more_races_women': 1.0, 'Race_unknown_total': 4.0, 'Race_unknown_men': 1.0, 'Race_unknown_women': 3.0, 'Nonresident_alien_total': 16.0, 'Nonresident_alien_men': 10.0}, {'unitid': 186131, 'university_name': 'Princeton University', 'year': 2019, 'Cohort_type': 15, 'Graduation_rate_status_in_cohort': 19, 'Cohort': 2, 'Total': 17, 'Total_men': 12.0, 'Total_women': 5.0, 'American_Indian_total': 0.0, 'American_Indian_men': 0.0, 'American_Indian_women': 0.0, 'Asian_total': 2.0, 'Asian_men': 1.0, 'Asian_women': 1.0, 'Black_total': 1.0, 'Black_men': 0.0, 'Black_women': 1.0, 'Hispanic_total': 4.0, 'Hispanic_men': 3.0, 'Hispanic_women': 1.0, 'Native_Hawaiian_total': 0.0, 'Native_Hawaiian_men': 0.0, 'Native_Hawaiian_women': 0.0, 'White_total': 7.0, 'White_men': 5.0, 'White_women': 2.0, 'Two_or_more_races_total': 0.0, 'Two_or_more_races_men': 0.0, 'Two_or_more_races_women': 0.0, 'Race_unknown_total': 0.0, 'Race_unknown_men': 0.0, 'Race_unknown_women': 0.0, 'Nonresident_alien_total': 3.0, 'Nonresident_alien_men': 3.0}]}\n"
     ]
    }
   ],
   "source": [
    "# Test different tools on NJ graduation data\n",
    "print(\"=== Search for Princeton ===\")\n",
    "print(b.search_text('university_name', 'Princeton'))"
   ]
  },
  {
   "cell_type": "code",
   "execution_count": 14,
   "id": "js6i2o3ju6f",
   "metadata": {},
   "outputs": [
    {
     "name": "stdout",
     "output_type": "stream",
     "text": [
      "\n",
      "=== Get unique values in year column ===\n",
      "{'column': 'year', 'unique_count': 6, 'unique_values': [2019, 2018, 2020, 2021, 2023, 2022]}\n"
     ]
    }
   ],
   "source": [
    "print(\"\\n=== Get unique values in year column ===\")\n",
    "print(b.get_unique_values('year'))"
   ]
  },
  {
   "cell_type": "code",
   "execution_count": 15,
   "id": "hnsv8htsw4n",
   "metadata": {},
   "outputs": [
    {
     "name": "stdout",
     "output_type": "stream",
     "text": [
      "\n",
      "=== Get summary statistics ===\n",
      "{'unitid': {'count': 6370.0, 'mean': 263828.10957613814, 'std': 125603.54842456657, 'min': 183488.0, '25%': 184773.0, '50%': 186283.0, '75%': 421878.0, 'max': 493716.0}, 'year': {'count': 6370.0, 'mean': 2020.5910518053374, 'std': 1.697841117750675, 'min': 2018.0, '25%': 2019.0, '50%': 2021.0, '75%': 2022.0, 'max': 2023.0}, 'Cohort_type': {'count': 6370.0, 'mean': 22.455886970172685, 'std': 15.053711885101459, 'min': 1.0, '25%': 8.0, '50%': 18.0, '75%': 36.0, 'max': 48.0}, 'Graduation_rate_status_in_cohort': {'count': 6370.0, 'mean': 18.500627943485085, 'std': 7.39853644814547, 'min': 10.0, '25%': 12.0, '50%': 16.0, '75%': 22.0, 'max': 32.0}, 'Cohort': {'count': 6370.0, 'mean': 2.4599686028257457, 'std': 1.1473543669202768, 'min': 1.0, '25%': 2.0, '50%': 2.0, '75%': 4.0, 'max': 4.0}, 'Total': {'count': 6370.0, 'mean': 276.05164835164834, 'std': 600.1311368190791, 'min': 1.0, '25%': 9.0, '50%': 59.5, '75%': 277.0, 'max': 6601.0}, 'Total_men': {'count': 5831.0, 'mean': 140.25638826959354, 'std': 305.6524786163391, 'min': 0.0, '25%': 4.0, '50%': 26.0, '75%': 145.0, 'max': 3272.0}, 'Total_women': {'count': 5831.0, 'mean': 152.86263076659236, 'std': 327.47032572599335, 'min': 0.0, '25%': 1.0, '50%': 30.0, '75%': 160.0, 'max': 3329.0}, 'American_Indian_total': {'count': 5831.0, 'mean': 0.5626822157434402, 'std': 1.5746076671165832, 'min': 0.0, '25%': 0.0, '50%': 0.0, '75%': 1.0, 'max': 30.0}, 'American_Indian_men': {'count': 5831.0, 'mean': 0.2735379866232207, 'std': 0.9239250776519871, 'min': 0.0, '25%': 0.0, '50%': 0.0, '75%': 0.0, 'max': 18.0}, 'American_Indian_women': {'count': 5831.0, 'mean': 0.28914422912021953, 'std': 0.8256711838826768, 'min': 0.0, '25%': 0.0, '50%': 0.0, '75%': 0.0, 'max': 14.0}, 'Asian_total': {'count': 5831.0, 'mean': 33.06413994169096, 'std': 151.18752910107412, 'min': 0.0, '25%': 0.0, '50%': 2.0, '75%': 17.0, 'max': 2089.0}, 'Asian_men': {'count': 5831.0, 'mean': 16.607957468701766, 'std': 75.39501668175036, 'min': 0.0, '25%': 0.0, '50%': 1.0, '75%': 8.0, 'max': 1043.0}, 'Asian_women': {'count': 5831.0, 'mean': 16.456182472989195, 'std': 76.28976825284212, 'min': 0.0, '25%': 0.0, '50%': 1.0, '75%': 8.0, 'max': 1046.0}, 'Black_total': {'count': 5831.0, 'mean': 35.59183673469388, 'std': 68.29990691779288, 'min': 0.0, '25%': 0.0, '50%': 8.0, '75%': 41.0, 'max': 893.0}, 'Black_men': {'count': 5831.0, 'mean': 14.819070485336992, 'std': 29.183133005807544, 'min': 0.0, '25%': 0.0, '50%': 3.0, '75%': 16.0, 'max': 381.0}, 'Black_women': {'count': 5831.0, 'mean': 20.772766249356884, 'std': 41.20659557541754, 'min': 0.0, '25%': 0.0, '50%': 4.0, '75%': 23.0, 'max': 512.0}, 'Hispanic_total': {'count': 5831.0, 'mean': 62.12090550505916, 'std': 120.59619745563276, 'min': 0.0, '25%': 0.0, '50%': 14.0, '75%': 71.0, 'max': 1103.0}, 'Hispanic_men': {'count': 5831.0, 'mean': 27.382610186931917, 'std': 54.723100563458395, 'min': 0.0, '25%': 0.0, '50%': 5.0, '75%': 31.0, 'max': 488.0}, 'Hispanic_women': {'count': 5831.0, 'mean': 34.73829531812725, 'std': 69.47723276613499, 'min': 0.0, '25%': 0.0, '50%': 7.0, '75%': 37.0, 'max': 616.0}, 'Native_Hawaiian_total': {'count': 5831.0, 'mean': 0.5669696450008574, 'std': 1.6332521489645389, 'min': 0.0, '25%': 0.0, '50%': 0.0, '75%': 0.0, 'max': 21.0}, 'Native_Hawaiian_men': {'count': 5831.0, 'mean': 0.2824558394786486, 'std': 0.9568562046051465, 'min': 0.0, '25%': 0.0, '50%': 0.0, '75%': 0.0, 'max': 13.0}, 'Native_Hawaiian_women': {'count': 5831.0, 'mean': 0.2845138055222089, 'std': 0.8535056953408021, 'min': 0.0, '25%': 0.0, '50%': 0.0, '75%': 0.0, 'max': 10.0}, 'White_total': {'count': 5831.0, 'mean': 129.6379694735037, 'std': 279.9722856761916, 'min': 0.0, '25%': 4.0, '50%': 20.0, '75%': 110.0, 'max': 2522.0}, 'White_men': {'count': 5831.0, 'mean': 65.61190190361859, 'std': 142.90441499133286, 'min': 0.0, '25%': 1.0, '50%': 12.0, '75%': 57.0, 'max': 1385.0}, 'White_women': {'count': 5831.0, 'mean': 64.0260675698851, 'std': 142.69033512782187, 'min': 0.0, '25%': 0.0, '50%': 7.0, '75%': 56.0, 'max': 1170.0}, 'Two_or_more_races_total': {'count': 5831.0, 'mean': 7.7520150917509865, 'std': 20.850934691269853, 'min': 0.0, '25%': 0.0, '50%': 0.0, '75%': 6.0, 'max': 245.0}, 'Two_or_more_races_men': {'count': 5831.0, 'mean': 3.4404047333219, 'std': 9.41378720154418, 'min': 0.0, '25%': 0.0, '50%': 0.0, '75%': 3.0, 'max': 113.0}, 'Two_or_more_races_women': {'count': 5831.0, 'mean': 4.311610358429086, 'std': 11.805563156291008, 'min': 0.0, '25%': 0.0, '50%': 0.0, '75%': 3.0, 'max': 139.0}, 'Race_unknown_total': {'count': 5831.0, 'mean': 14.076316240782027, 'std': 38.138474424603906, 'min': 0.0, '25%': 0.0, '50%': 2.0, '75%': 13.0, 'max': 901.0}, 'Race_unknown_men': {'count': 5831.0, 'mean': 6.625107185731435, 'std': 18.856870318277753, 'min': 0.0, '25%': 0.0, '50%': 0.0, '75%': 6.0, 'max': 490.0}, 'Race_unknown_women': {'count': 5831.0, 'mean': 7.451209055050592, 'std': 20.593075610935223, 'min': 0.0, '25%': 0.0, '50%': 1.0, '75%': 6.0, 'max': 411.0}, 'Nonresident_alien_total': {'count': 5831.0, 'mean': 9.746184187960898, 'std': 46.22829536161651, 'min': 0.0, '25%': 0.0, '50%': 0.0, '75%': 5.0, 'max': 673.0}, 'Nonresident_alien_men': {'count': 5831.0, 'mean': 5.213342479849082, 'std': 24.901075641191643, 'min': 0.0, '25%': 0.0, '50%': 0.0, '75%': 2.0, 'max': 383.0}}\n"
     ]
    }
   ],
   "source": [
    "print(\"\\n=== Get summary statistics ===\")\n",
    "print(b.get_summary_stats())"
   ]
  },
  {
   "cell_type": "code",
   "execution_count": 18,
   "id": "x91jdgzvnfi",
   "metadata": {},
   "outputs": [
    {
     "name": "stdout",
     "output_type": "stream",
     "text": [
      "\n",
      "Query data: Total > 1000\n",
      "{'query': 'Total > 1000', 'result_count': 474, 'data': [{'unitid': 183743, 'university_name': 'Bergen Community College', 'year': 2019, 'Cohort_type': 27, 'Graduation_rate_status_in_cohort': 10, 'Cohort': 4, 'Total': 2679, 'Total_men': 1460.0, 'Total_women': 1219.0, 'American_Indian_total': 5.0, 'American_Indian_men': 2.0, 'American_Indian_women': 3.0, 'Asian_total': 122.0, 'Asian_men': 78.0, 'Asian_women': 44.0, 'Black_total': 148.0, 'Black_men': 78.0, 'Black_women': 70.0, 'Hispanic_total': 654.0, 'Hispanic_men': 347.0, 'Hispanic_women': 307.0, 'Native_Hawaiian_total': 7.0, 'Native_Hawaiian_men': 0.0, 'Native_Hawaiian_women': 7.0, 'White_total': 630.0, 'White_men': 354.0, 'White_women': 276.0, 'Two_or_more_races_total': 47.0, 'Two_or_more_races_men': 28.0, 'Two_or_more_races_women': 19.0, 'Race_unknown_total': 901.0, 'Race_unknown_men': 490.0, 'Race_unknown_women': 411.0, 'Nonresident_alien_total': 165.0, 'Nonresident_alien_men': 83.0}, {'unitid': 183743, 'university_name': 'Bergen Community College', 'year': 2019, 'Cohort_type': 29, 'Graduation_rate_status_in_cohort': 12, 'Cohort': 4, 'Total': 2679, 'Total_men': 1460.0, 'Total_women': 1219.0, 'American_Indian_total': 5.0, 'American_Indian_men': 2.0, 'American_Indian_women': 3.0, 'Asian_total': 122.0, 'Asian_men': 78.0, 'Asian_women': 44.0, 'Black_total': 148.0, 'Black_men': 78.0, 'Black_women': 70.0, 'Hispanic_total': 654.0, 'Hispanic_men': 347.0, 'Hispanic_women': 307.0, 'Native_Hawaiian_total': 7.0, 'Native_Hawaiian_men': 0.0, 'Native_Hawaiian_women': 7.0, 'White_total': 630.0, 'White_men': 354.0, 'White_women': 276.0, 'Two_or_more_races_total': 47.0, 'Two_or_more_races_men': 28.0, 'Two_or_more_races_women': 19.0, 'Race_unknown_total': 901.0, 'Race_unknown_men': 490.0, 'Race_unknown_women': 411.0, 'Nonresident_alien_total': 165.0, 'Nonresident_alien_men': 83.0}, {'unitid': 183743, 'university_name': 'Bergen Community College', 'year': 2019, 'Cohort_type': 48, 'Graduation_rate_status_in_cohort': 32, 'Cohort': 4, 'Total': 1088, 'Total_men': 656.0, 'Total_women': 432.0, 'American_Indian_total': 1.0, 'American_Indian_men': 1.0, 'American_Indian_women': 0.0, 'Asian_total': 27.0, 'Asian_men': 20.0, 'Asian_women': 7.0, 'Black_total': 74.0, 'Black_men': 42.0, 'Black_women': 32.0, 'Hispanic_total': 284.0, 'Hispanic_men': 172.0, 'Hispanic_women': 112.0, 'Native_Hawaiian_total': 2.0, 'Native_Hawaiian_men': 0.0, 'Native_Hawaiian_women': 2.0, 'White_total': 211.0, 'White_men': 120.0, 'White_women': 91.0, 'Two_or_more_races_total': 17.0, 'Two_or_more_races_men': 12.0, 'Two_or_more_races_women': 5.0, 'Race_unknown_total': 403.0, 'Race_unknown_men': 250.0, 'Race_unknown_women': 153.0, 'Nonresident_alien_total': 69.0, 'Nonresident_alien_men': 39.0}, {'unitid': 183743, 'university_name': 'Bergen Community College', 'year': 2018, 'Cohort_type': 27, 'Graduation_rate_status_in_cohort': 10, 'Cohort': 4, 'Total': 2515, 'Total_men': 1354.0, 'Total_women': 1161.0, 'American_Indian_total': 6.0, 'American_Indian_men': 2.0, 'American_Indian_women': 4.0, 'Asian_total': 144.0, 'Asian_men': 84.0, 'Asian_women': 60.0, 'Black_total': 149.0, 'Black_men': 77.0, 'Black_women': 72.0, 'Hispanic_total': 715.0, 'Hispanic_men': 353.0, 'Hispanic_women': 362.0, 'Native_Hawaiian_total': 4.0, 'Native_Hawaiian_men': 3.0, 'Native_Hawaiian_women': 1.0, 'White_total': 719.0, 'White_men': 407.0, 'White_women': 312.0, 'Two_or_more_races_total': 41.0, 'Two_or_more_races_men': 22.0, 'Two_or_more_races_women': 19.0, 'Race_unknown_total': 581.0, 'Race_unknown_men': 320.0, 'Race_unknown_women': 261.0, 'Nonresident_alien_total': 156.0, 'Nonresident_alien_men': 86.0}, {'unitid': 183743, 'university_name': 'Bergen Community College', 'year': 2018, 'Cohort_type': 29, 'Graduation_rate_status_in_cohort': 12, 'Cohort': 4, 'Total': 2515, 'Total_men': 1354.0, 'Total_women': 1161.0, 'American_Indian_total': 6.0, 'American_Indian_men': 2.0, 'American_Indian_women': 4.0, 'Asian_total': 144.0, 'Asian_men': 84.0, 'Asian_women': 60.0, 'Black_total': 149.0, 'Black_men': 77.0, 'Black_women': 72.0, 'Hispanic_total': 715.0, 'Hispanic_men': 353.0, 'Hispanic_women': 362.0, 'Native_Hawaiian_total': 4.0, 'Native_Hawaiian_men': 3.0, 'Native_Hawaiian_women': 1.0, 'White_total': 719.0, 'White_men': 407.0, 'White_women': 312.0, 'Two_or_more_races_total': 41.0, 'Two_or_more_races_men': 22.0, 'Two_or_more_races_women': 19.0, 'Race_unknown_total': 581.0, 'Race_unknown_men': 320.0, 'Race_unknown_women': 261.0, 'Nonresident_alien_total': 156.0, 'Nonresident_alien_men': 86.0}, {'unitid': 183743, 'university_name': 'Bergen Community College', 'year': 2018, 'Cohort_type': 48, 'Graduation_rate_status_in_cohort': 32, 'Cohort': 4, 'Total': 1118, 'Total_men': 656.0, 'Total_women': 462.0, 'American_Indian_total': 4.0, 'American_Indian_men': 2.0, 'American_Indian_women': 2.0, 'Asian_total': 44.0, 'Asian_men': 24.0, 'Asian_women': 20.0, 'Black_total': 73.0, 'Black_men': 42.0, 'Black_women': 31.0, 'Hispanic_total': 340.0, 'Hispanic_men': 185.0, 'Hispanic_women': 155.0, 'Native_Hawaiian_total': 4.0, 'Native_Hawaiian_men': 3.0, 'Native_Hawaiian_women': 1.0, 'White_total': 279.0, 'White_men': 178.0, 'White_women': 101.0, 'Two_or_more_races_total': 15.0, 'Two_or_more_races_men': 9.0, 'Two_or_more_races_women': 6.0, 'Race_unknown_total': 282.0, 'Race_unknown_men': 165.0, 'Race_unknown_women': 117.0, 'Nonresident_alien_total': 77.0, 'Nonresident_alien_men': 48.0}, {'unitid': 183743, 'university_name': 'Bergen Community College', 'year': 2020, 'Cohort_type': 27, 'Graduation_rate_status_in_cohort': 10, 'Cohort': 4, 'Total': 2312, 'Total_men': 1281.0, 'Total_women': 1031.0, 'American_Indian_total': 14.0, 'American_Indian_men': 9.0, 'American_Indian_women': 5.0, 'Asian_total': 199.0, 'Asian_men': 122.0, 'Asian_women': 77.0, 'Black_total': 174.0, 'Black_men': 81.0, 'Black_women': 93.0, 'Hispanic_total': 562.0, 'Hispanic_men': 293.0, 'Hispanic_women': 269.0, 'Native_Hawaiian_total': 13.0, 'Native_Hawaiian_men': 5.0, 'Native_Hawaiian_women': 8.0, 'White_total': 831.0, 'White_men': 492.0, 'White_women': 339.0, 'Two_or_more_races_total': 14.0, 'Two_or_more_races_men': 7.0, 'Two_or_more_races_women': 7.0, 'Race_unknown_total': 395.0, 'Race_unknown_men': 213.0, 'Race_unknown_women': 182.0, 'Nonresident_alien_total': 110.0, 'Nonresident_alien_men': 59.0}, {'unitid': 183743, 'university_name': 'Bergen Community College', 'year': 2020, 'Cohort_type': 29, 'Graduation_rate_status_in_cohort': 12, 'Cohort': 4, 'Total': 2312, 'Total_men': 1281.0, 'Total_women': 1031.0, 'American_Indian_total': 14.0, 'American_Indian_men': 9.0, 'American_Indian_women': 5.0, 'Asian_total': 199.0, 'Asian_men': 122.0, 'Asian_women': 77.0, 'Black_total': 174.0, 'Black_men': 81.0, 'Black_women': 93.0, 'Hispanic_total': 562.0, 'Hispanic_men': 293.0, 'Hispanic_women': 269.0, 'Native_Hawaiian_total': 13.0, 'Native_Hawaiian_men': 5.0, 'Native_Hawaiian_women': 8.0, 'White_total': 831.0, 'White_men': 492.0, 'White_women': 339.0, 'Two_or_more_races_total': 14.0, 'Two_or_more_races_men': 7.0, 'Two_or_more_races_women': 7.0, 'Race_unknown_total': 395.0, 'Race_unknown_men': 213.0, 'Race_unknown_women': 182.0, 'Nonresident_alien_total': 110.0, 'Nonresident_alien_men': 59.0}, {'unitid': 183743, 'university_name': 'Bergen Community College', 'year': 2020, 'Cohort_type': 48, 'Graduation_rate_status_in_cohort': 32, 'Cohort': 4, 'Total': 1081, 'Total_men': 638.0, 'Total_women': 443.0, 'American_Indian_total': 8.0, 'American_Indian_men': 6.0, 'American_Indian_women': 2.0, 'Asian_total': 77.0, 'Asian_men': 48.0, 'Asian_women': 29.0, 'Black_total': 95.0, 'Black_men': 45.0, 'Black_women': 50.0, 'Hispanic_total': 310.0, 'Hispanic_men': 177.0, 'Hispanic_women': 133.0, 'Native_Hawaiian_total': 10.0, 'Native_Hawaiian_men': 5.0, 'Native_Hawaiian_women': 5.0, 'White_total': 332.0, 'White_men': 211.0, 'White_women': 121.0, 'Two_or_more_races_total': 10.0, 'Two_or_more_races_men': 6.0, 'Two_or_more_races_women': 4.0, 'Race_unknown_total': 187.0, 'Race_unknown_men': 108.0, 'Race_unknown_women': 79.0, 'Nonresident_alien_total': 52.0, 'Nonresident_alien_men': 32.0}, {'unitid': 183743, 'university_name': 'Bergen Community College', 'year': 2021, 'Cohort_type': 27, 'Graduation_rate_status_in_cohort': 10, 'Cohort': 4, 'Total': 2166, 'Total_men': 1189.0, 'Total_women': 977.0, 'American_Indian_total': 9.0, 'American_Indian_men': 4.0, 'American_Indian_women': 5.0, 'Asian_total': 193.0, 'Asian_men': 116.0, 'Asian_women': 77.0, 'Black_total': 131.0, 'Black_men': 72.0, 'Black_women': 59.0, 'Hispanic_total': 946.0, 'Hispanic_men': 488.0, 'Hispanic_women': 458.0, 'Native_Hawaiian_total': 8.0, 'Native_Hawaiian_men': 3.0, 'Native_Hawaiian_women': 5.0, 'White_total': 698.0, 'White_men': 412.0, 'White_women': 286.0, 'Two_or_more_races_total': 2.0, 'Two_or_more_races_men': 2.0, 'Two_or_more_races_women': 0.0, 'Race_unknown_total': 91.0, 'Race_unknown_men': 48.0, 'Race_unknown_women': 43.0, 'Nonresident_alien_total': 88.0, 'Nonresident_alien_men': 44.0}]}\n"
     ]
    }
   ],
   "source": [
    "print(\"\\nQuery data: Total > 1000\")\n",
    "print(b.query_data('Total > 1000'))"
   ]
  },
  {
   "cell_type": "markdown",
   "id": "38a16abf",
   "metadata": {},
   "source": [
    "Query: Found 474 records with Total > 1000"
   ]
  },
  {
   "cell_type": "code",
   "execution_count": null,
   "id": "4rvk6a9tzq3",
   "metadata": {},
   "outputs": [
    {
     "name": "stdout",
     "output_type": "stream",
     "text": [
      "\n",
      "=== Group and aggregate: Average Total by year ===\n",
      "{'operation': 'mean(Total) grouped by year', 'data': [{'year': 2018, 'Total': 295.7742616033755}, {'year': 2019, 'Total': 283.56243854473945}, {'year': 2020, 'Total': 267.16319129646416}, {'year': 2021, 'Total': 266.4049135577798}, {'year': 2022, 'Total': 264.61844660194174}, {'year': 2023, 'Total': 281.03580562659846}]}\n"
     ]
    }
   ],
   "source": [
    "print(\"\\Group and aggregate: Average Total by year\")\n",
    "print(b.group_and_aggregate('year', 'Total', 'mean'))"
   ]
  },
  {
   "cell_type": "markdown",
   "id": "d9c3b458",
   "metadata": {},
   "source": [
    "Group/aggregate: Average total enrollment by year, showing decline from 2018-2022 then slight increase in 2023"
   ]
  },
  {
   "cell_type": "markdown",
   "id": "142e3080",
   "metadata": {},
   "source": [
    "## Test agent"
   ]
  },
  {
   "cell_type": "code",
   "execution_count": 5,
   "id": "45160f71",
   "metadata": {},
   "outputs": [
    {
     "name": "stdout",
     "output_type": "stream",
     "text": [
      "/Users/uyennguyen/Projects/mcp-demo/tests\n"
     ]
    }
   ],
   "source": [
    "import os\n",
    "import sys\n",
    "print(os.getcwd())\n",
    "sys.path.append('/Users/uyennguyen/Projects/mcp-demo')\n",
    "from agents.workflow import ask_csv_question"
   ]
  },
  {
   "cell_type": "code",
   "execution_count": 7,
   "id": "091925f2",
   "metadata": {},
   "outputs": [
    {
     "name": "stdout",
     "output_type": "stream",
     "text": [
      "=== Unique Cities Test ===\n",
      "Based on the provided analysis results, 11 city names were found.\n",
      "=== Salary Filter Test ===\n",
      "Based on the analysis results, there are 10 people with salary over 100000.\n"
     ]
    }
   ],
   "source": [
    "print('=== Unique Cities Test ==='); \n",
    "print(ask_csv_question('What cities are in the data?', 'sample_data.csv'))\n",
    "\n",
    "print('=== Salary Filter Test ==='); \n",
    "print(ask_csv_question('Show me people with salary over 100000', 'sample_data.csv'))"
   ]
  },
  {
   "cell_type": "code",
   "execution_count": 12,
   "id": "bf1ff6ba",
   "metadata": {},
   "outputs": [
    {
     "name": "stdout",
     "output_type": "stream",
     "text": [
      "Loaded CSV with 100 rows and 7 columns\n",
      "{'search_term': 'Chicago', 'column': 'city', 'matches': 18, 'data': [{'id': 3, 'name': 'Person_3', 'age': 68, 'city': 'Chicago', 'salary': 80386, 'department': 'Marketing', 'years_experience': 14}, {'id': 7, 'name': 'Person_7', 'age': 28, 'city': 'Chicago', 'salary': 98654, 'department': 'Engineering', 'years_experience': 24}, {'id': 9, 'name': 'Person_9', 'age': 38, 'city': 'Chicago', 'salary': 30372, 'department': 'Finance', 'years_experience': 21}, {'id': 12, 'name': 'Person_12', 'age': 35, 'city': 'Chicago', 'salary': 66733, 'department': 'Marketing', 'years_experience': 8}, {'id': 22, 'name': 'Person_22', 'age': 54, 'city': 'Chicago', 'salary': 34418, 'department': 'Marketing', 'years_experience': 2}, {'id': 34, 'name': 'Person_34', 'age': 36, 'city': 'Chicago', 'salary': 123155, 'department': 'Engineering', 'years_experience': 16}, {'id': 35, 'name': 'Person_35', 'age': 73, 'city': 'Chicago', 'salary': 142203, 'department': 'Marketing', 'years_experience': 21}, {'id': 41, 'name': 'Person_41', 'age': 28, 'city': 'Chicago', 'salary': 38538, 'department': 'Engineering', 'years_experience': 2}, {'id': 49, 'name': 'Person_49', 'age': 30, 'city': 'Chicago', 'salary': 111515, 'department': 'Sales', 'years_experience': 2}, {'id': 52, 'name': 'Person_52', 'age': 28, 'city': 'Chicago', 'salary': 90961, 'department': 'Sales', 'years_experience': 17}]}\n"
     ]
    }
   ],
   "source": [
    "a = CSVAnalyzer('../sample_data.csv')\n",
    "print(a.search_text('city','Chicago'))"
   ]
  },
  {
   "cell_type": "code",
   "execution_count": null,
   "id": "4ace0529",
   "metadata": {},
   "outputs": [],
   "source": "# Force reload the module to get latest changes\nimport importlib\nimport sys\nif 'agents.workflow' in sys.modules:\n    importlib.reload(sys.modules['agents.workflow'])\n\nfrom agents.workflow import ask_csv_question                                                                \nprint('=== RAW RESULTS DEBUG (with reload) ===')                                                                                \n\n# Test with raw_results=True and debug\nprint(\"Calling with raw_results=True...\")\nresponse = ask_csv_question('Show me Princeton University data', '../data/NJ_graduation_data.csv', raw_results=True)\n\nprint(f\"Response type: {type(response)}\")\nprint(f\"Response is dict: {isinstance(response, dict)}\")\n\nif isinstance(response, dict):\n    print(\"\\n=== ANALYSIS RESULTS ===\")\n    print(response.get('analysis', 'No analysis found'))\n    print(\"\\n=== GENERATED RESPONSE ===\")\n    print(response.get('response', 'No response found'))\nelse:\n    print(\"\\n=== SINGLE RESPONSE (raw_results may not be working) ===\")\n    print(response[:500] + \"...\" if len(str(response)) > 500 else response)"
  },
  {
   "cell_type": "code",
   "execution_count": null,
   "id": "c336b0e1",
   "metadata": {},
   "outputs": [],
   "source": []
  }
 ],
 "metadata": {
  "kernelspec": {
   "display_name": "venv",
   "language": "python",
   "name": "python3"
  },
  "language_info": {
   "codemirror_mode": {
    "name": "ipython",
    "version": 3
   },
   "file_extension": ".py",
   "mimetype": "text/x-python",
   "name": "python",
   "nbconvert_exporter": "python",
   "pygments_lexer": "ipython3",
   "version": "3.12.11"
  }
 },
 "nbformat": 4,
 "nbformat_minor": 5
}